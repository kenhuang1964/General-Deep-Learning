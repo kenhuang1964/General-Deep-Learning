{
  "nbformat": 4,
  "nbformat_minor": 0,
  "metadata": {
    "colab": {
      "provenance": [],
      "authorship_tag": "ABX9TyNpSD4Y2m5eFXgRmBfbKOyS",
      "include_colab_link": true
    },
    "kernelspec": {
      "name": "python3",
      "display_name": "Python 3"
    },
    "language_info": {
      "name": "python"
    }
  },
  "cells": [
    {
      "cell_type": "markdown",
      "metadata": {
        "id": "view-in-github",
        "colab_type": "text"
      },
      "source": [
        "<a href=\"https://colab.research.google.com/github/kenhuangsy/General-Deep-Learning/blob/main/Data_Manipulation.ipynb\" target=\"_parent\"><img src=\"https://colab.research.google.com/assets/colab-badge.svg\" alt=\"Open In Colab\"/></a>"
      ]
    },
    {
      "cell_type": "markdown",
      "source": [
        "## Basics"
      ],
      "metadata": {
        "id": "LvGL2e54SeFp"
      }
    },
    {
      "cell_type": "code",
      "execution_count": 1,
      "metadata": {
        "id": "P5dfR2OwSSds"
      },
      "outputs": [],
      "source": [
        "import torch"
      ]
    },
    {
      "cell_type": "markdown",
      "source": [
        "Let's get started by understanding what a tensor is. A tensor is simply a single or multi-dimensional array of numerical values. If we only have one axis, it is called a vector. If we have 2 axes, it is called a matrix"
      ],
      "metadata": {
        "id": "eDbpLFl2m2zB"
      }
    },
    {
      "cell_type": "markdown",
      "source": [
        "One of the most basic functions for creating new tensors is arange()."
      ],
      "metadata": {
        "id": "-HWiB-LvmxCr"
      }
    },
    {
      "cell_type": "code",
      "source": [
        "x = torch.arange(12, dtype = torch.float32)\n",
        "x"
      ],
      "metadata": {
        "colab": {
          "base_uri": "https://localhost:8080/"
        },
        "id": "5JvYZ48iSm7v",
        "outputId": "4b043b37-dad5-4857-ec38-f9c7bcc07dde"
      },
      "execution_count": 2,
      "outputs": [
        {
          "output_type": "execute_result",
          "data": {
            "text/plain": [
              "tensor([ 0.,  1.,  2.,  3.,  4.,  5.,  6.,  7.,  8.,  9., 10., 11.])"
            ]
          },
          "metadata": {},
          "execution_count": 2
        }
      ]
    },
    {
      "cell_type": "code",
      "source": [
        "x.numel()"
      ],
      "metadata": {
        "colab": {
          "base_uri": "https://localhost:8080/"
        },
        "id": "KoMN9FjkS5r_",
        "outputId": "92959a9f-d1d8-490d-9b2f-91d2daaa0006"
      },
      "execution_count": 3,
      "outputs": [
        {
          "output_type": "execute_result",
          "data": {
            "text/plain": [
              "12"
            ]
          },
          "metadata": {},
          "execution_count": 3
        }
      ]
    },
    {
      "cell_type": "code",
      "source": [
        "x.shape"
      ],
      "metadata": {
        "colab": {
          "base_uri": "https://localhost:8080/"
        },
        "id": "indtN8KxTDb9",
        "outputId": "2e27cf2b-c725-4271-f40f-2eeafbf53694"
      },
      "execution_count": 4,
      "outputs": [
        {
          "output_type": "execute_result",
          "data": {
            "text/plain": [
              "torch.Size([12])"
            ]
          },
          "metadata": {},
          "execution_count": 4
        }
      ]
    },
    {
      "cell_type": "code",
      "source": [
        "X = x.reshape(3, 4)\n",
        "X"
      ],
      "metadata": {
        "colab": {
          "base_uri": "https://localhost:8080/"
        },
        "id": "w4MdL85NTHqC",
        "outputId": "85936d29-33e1-45df-b686-9463c5b287c3"
      },
      "execution_count": 5,
      "outputs": [
        {
          "output_type": "execute_result",
          "data": {
            "text/plain": [
              "tensor([[ 0.,  1.,  2.,  3.],\n",
              "        [ 4.,  5.,  6.,  7.],\n",
              "        [ 8.,  9., 10., 11.]])"
            ]
          },
          "metadata": {},
          "execution_count": 5
        }
      ]
    },
    {
      "cell_type": "code",
      "source": [
        "X = x.reshape(-1, 4)\n",
        "X"
      ],
      "metadata": {
        "colab": {
          "base_uri": "https://localhost:8080/"
        },
        "id": "ldrc7Ae_TlQQ",
        "outputId": "060f4099-1315-4edf-ef7f-0dc27977e00b"
      },
      "execution_count": 6,
      "outputs": [
        {
          "output_type": "execute_result",
          "data": {
            "text/plain": [
              "tensor([[ 0.,  1.,  2.,  3.],\n",
              "        [ 4.,  5.,  6.,  7.],\n",
              "        [ 8.,  9., 10., 11.]])"
            ]
          },
          "metadata": {},
          "execution_count": 6
        }
      ]
    },
    {
      "cell_type": "code",
      "source": [
        "X = x.reshape(3, -1)\n",
        "X"
      ],
      "metadata": {
        "colab": {
          "base_uri": "https://localhost:8080/"
        },
        "id": "FuuOekuCT-SW",
        "outputId": "3c60346e-6c45-4bd4-9e19-9812ced08bc2"
      },
      "execution_count": 7,
      "outputs": [
        {
          "output_type": "execute_result",
          "data": {
            "text/plain": [
              "tensor([[ 0.,  1.,  2.,  3.],\n",
              "        [ 4.,  5.,  6.,  7.],\n",
              "        [ 8.,  9., 10., 11.]])"
            ]
          },
          "metadata": {},
          "execution_count": 7
        }
      ]
    },
    {
      "cell_type": "markdown",
      "source": [
        "Practitioners often need to work with tensors initialized with all zeros or ones."
      ],
      "metadata": {
        "id": "TLzltwYdWavR"
      }
    },
    {
      "cell_type": "code",
      "source": [
        "torch.zeros((2, 3, 4))"
      ],
      "metadata": {
        "colab": {
          "base_uri": "https://localhost:8080/"
        },
        "id": "xG6HYIagUA6j",
        "outputId": "4f8a5685-2430-47df-c139-8cf6760b41be"
      },
      "execution_count": 8,
      "outputs": [
        {
          "output_type": "execute_result",
          "data": {
            "text/plain": [
              "tensor([[[0., 0., 0., 0.],\n",
              "         [0., 0., 0., 0.],\n",
              "         [0., 0., 0., 0.]],\n",
              "\n",
              "        [[0., 0., 0., 0.],\n",
              "         [0., 0., 0., 0.],\n",
              "         [0., 0., 0., 0.]]])"
            ]
          },
          "metadata": {},
          "execution_count": 8
        }
      ]
    },
    {
      "cell_type": "code",
      "source": [
        "torch.ones((2, 3, 4))"
      ],
      "metadata": {
        "colab": {
          "base_uri": "https://localhost:8080/"
        },
        "id": "q4wb921kVmFw",
        "outputId": "f9701190-09a2-4018-8563-042cd8c00690"
      },
      "execution_count": 9,
      "outputs": [
        {
          "output_type": "execute_result",
          "data": {
            "text/plain": [
              "tensor([[[1., 1., 1., 1.],\n",
              "         [1., 1., 1., 1.],\n",
              "         [1., 1., 1., 1.]],\n",
              "\n",
              "        [[1., 1., 1., 1.],\n",
              "         [1., 1., 1., 1.],\n",
              "         [1., 1., 1., 1.]]])"
            ]
          },
          "metadata": {},
          "execution_count": 9
        }
      ]
    },
    {
      "cell_type": "markdown",
      "source": [
        "Random is useful when we want to initialize the weights of a neural network with random numbers. This is because randomizing the weights can allow us to break symmetry in the network which makes the process and chances of finding the global minima easier. Without random initialization, all neurons in the network would perform the same computation and produce the same output, resulting in poor performance. Additionally, starting with random weights can also help prevent the network from getting stuck in a poor local minimum during training."
      ],
      "metadata": {
        "id": "hAjV1cc0V9EL"
      }
    },
    {
      "cell_type": "code",
      "source": [
        "torch.randn(3, 4)"
      ],
      "metadata": {
        "colab": {
          "base_uri": "https://localhost:8080/"
        },
        "id": "lQf-TWv4VwOz",
        "outputId": "e57fb416-eae1-451a-f5d3-481fc5b72add"
      },
      "execution_count": 10,
      "outputs": [
        {
          "output_type": "execute_result",
          "data": {
            "text/plain": [
              "tensor([[ 0.4378, -2.5085,  1.8293, -1.6031],\n",
              "        [-0.2617,  1.1642, -1.7660,  0.8106],\n",
              "        [-0.9764, -0.6006,  0.2010,  1.6216]])"
            ]
          },
          "metadata": {},
          "execution_count": 10
        }
      ]
    },
    {
      "cell_type": "code",
      "source": [
        "torch.tensor([[1,2,3,4],\n",
        "              [5,6,7,8],\n",
        "              [9,10,11,12]])"
      ],
      "metadata": {
        "colab": {
          "base_uri": "https://localhost:8080/"
        },
        "id": "lBsmAhtiV1T-",
        "outputId": "0f289eb2-167b-4d63-a92b-04c3b2269e63"
      },
      "execution_count": 11,
      "outputs": [
        {
          "output_type": "execute_result",
          "data": {
            "text/plain": [
              "tensor([[ 1,  2,  3,  4],\n",
              "        [ 5,  6,  7,  8],\n",
              "        [ 9, 10, 11, 12]])"
            ]
          },
          "metadata": {},
          "execution_count": 11
        }
      ]
    },
    {
      "cell_type": "markdown",
      "source": [
        "## Indexing and Slicing"
      ],
      "metadata": {
        "id": "hCi2DNxLXJ_J"
      }
    },
    {
      "cell_type": "code",
      "source": [
        "X"
      ],
      "metadata": {
        "colab": {
          "base_uri": "https://localhost:8080/"
        },
        "id": "Y-MFq865YGUw",
        "outputId": "f11f69f3-3a37-481d-9825-464c027036e3"
      },
      "execution_count": 13,
      "outputs": [
        {
          "output_type": "execute_result",
          "data": {
            "text/plain": [
              "tensor([[ 0.,  1.,  2.,  3.],\n",
              "        [ 4.,  5.,  6.,  7.],\n",
              "        [ 8.,  9., 10., 11.]])"
            ]
          },
          "metadata": {},
          "execution_count": 13
        }
      ]
    },
    {
      "cell_type": "markdown",
      "source": [
        "We can access a range of indices by slicing through our tensor.\n",
        "\n",
        "X[start:non-inclusive stop]"
      ],
      "metadata": {
        "id": "DP_ywNS8YOaT"
      }
    },
    {
      "cell_type": "code",
      "source": [
        "X[-1]"
      ],
      "metadata": {
        "colab": {
          "base_uri": "https://localhost:8080/"
        },
        "id": "66GlZ-DqXFXx",
        "outputId": "3ae25675-2ba7-4c98-bdce-aeb908d940c4"
      },
      "execution_count": 17,
      "outputs": [
        {
          "output_type": "execute_result",
          "data": {
            "text/plain": [
              "tensor([ 8.,  9., 10., 11.])"
            ]
          },
          "metadata": {},
          "execution_count": 17
        }
      ]
    },
    {
      "cell_type": "code",
      "source": [
        "X[1: 3]"
      ],
      "metadata": {
        "colab": {
          "base_uri": "https://localhost:8080/"
        },
        "id": "tm0JH7JaYE1G",
        "outputId": "56d9ab88-7807-4f69-8b79-247b33aba868"
      },
      "execution_count": 18,
      "outputs": [
        {
          "output_type": "execute_result",
          "data": {
            "text/plain": [
              "tensor([[ 4.,  5.,  6.,  7.],\n",
              "        [ 8.,  9., 10., 11.]])"
            ]
          },
          "metadata": {},
          "execution_count": 18
        }
      ]
    },
    {
      "cell_type": "markdown",
      "source": [
        "We can also assign specific values to a tensor. Note that tensors are also 0 index based"
      ],
      "metadata": {
        "id": "unqH_XNVYgre"
      }
    },
    {
      "cell_type": "code",
      "source": [
        "X"
      ],
      "metadata": {
        "colab": {
          "base_uri": "https://localhost:8080/"
        },
        "id": "icv-S8hxYdLv",
        "outputId": "eda48206-8c10-434f-e181-f26f443560c6"
      },
      "execution_count": 19,
      "outputs": [
        {
          "output_type": "execute_result",
          "data": {
            "text/plain": [
              "tensor([[ 0.,  1.,  2.,  3.],\n",
              "        [ 4.,  5.,  6.,  7.],\n",
              "        [ 8.,  9., 10., 11.]])"
            ]
          },
          "metadata": {},
          "execution_count": 19
        }
      ]
    },
    {
      "cell_type": "code",
      "source": [
        "X[1, 2] = 17\n",
        "X"
      ],
      "metadata": {
        "colab": {
          "base_uri": "https://localhost:8080/"
        },
        "id": "tZw8HoSfYpmy",
        "outputId": "bdaa5749-d357-4a86-d44c-c3fb170a0a43"
      },
      "execution_count": 22,
      "outputs": [
        {
          "output_type": "execute_result",
          "data": {
            "text/plain": [
              "tensor([[ 0.,  1.,  2.,  3.],\n",
              "        [ 4.,  5., 17.,  7.],\n",
              "        [ 8.,  9., 10., 11.]])"
            ]
          },
          "metadata": {},
          "execution_count": 22
        }
      ]
    },
    {
      "cell_type": "code",
      "source": [
        "X[:2, :] = 12\n",
        "X"
      ],
      "metadata": {
        "colab": {
          "base_uri": "https://localhost:8080/"
        },
        "id": "DCyPn85mYtDz",
        "outputId": "459f1d67-8149-48e5-c64e-8d18ee654142"
      },
      "execution_count": 24,
      "outputs": [
        {
          "output_type": "execute_result",
          "data": {
            "text/plain": [
              "tensor([[12., 12., 12., 12.],\n",
              "        [12., 12., 12., 12.],\n",
              "        [ 8.,  9., 10., 11.]])"
            ]
          },
          "metadata": {},
          "execution_count": 24
        }
      ]
    },
    {
      "cell_type": "markdown",
      "source": [
        "## Operations"
      ],
      "metadata": {
        "id": "KdyPrhQ3ZWFt"
      }
    },
    {
      "cell_type": "markdown",
      "source": [
        "Some of the most useful operations are the elementwise operations. These apply a STANDARD scalar operation to each element of a tensor"
      ],
      "metadata": {
        "id": "3X6Tp5D1ZzdY"
      }
    },
    {
      "cell_type": "code",
      "source": [
        "x"
      ],
      "metadata": {
        "colab": {
          "base_uri": "https://localhost:8080/"
        },
        "id": "d3T4NEO5ZFhh",
        "outputId": "6b283121-1389-4831-ecb4-ee3c44851c4b"
      },
      "execution_count": 26,
      "outputs": [
        {
          "output_type": "execute_result",
          "data": {
            "text/plain": [
              "tensor([12., 12., 12., 12., 12., 12., 12., 12.,  8.,  9., 10., 11.])"
            ]
          },
          "metadata": {},
          "execution_count": 26
        }
      ]
    },
    {
      "cell_type": "code",
      "source": [
        "#apply e^x to all elements in the tensor\n",
        "torch.exp(x)"
      ],
      "metadata": {
        "colab": {
          "base_uri": "https://localhost:8080/"
        },
        "id": "l_cMaUYnZouB",
        "outputId": "999e2e6a-abda-4a0c-9a35-fd1d2278fb27"
      },
      "execution_count": 28,
      "outputs": [
        {
          "output_type": "execute_result",
          "data": {
            "text/plain": [
              "tensor([162754.7969, 162754.7969, 162754.7969, 162754.7969, 162754.7969,\n",
              "        162754.7969, 162754.7969, 162754.7969,   2980.9580,   8103.0840,\n",
              "         22026.4648,  59874.1406])"
            ]
          },
          "metadata": {},
          "execution_count": 28
        }
      ]
    },
    {
      "cell_type": "markdown",
      "source": [
        "We can also apply BINARY scalar operators. What does this mean? If we are given two vectors u and v of the same shape and a binary operator f, we can produce a new vector c where we plug vectors u and v into the binary operator f."
      ],
      "metadata": {
        "id": "xD5iveBbahOp"
      }
    },
    {
      "cell_type": "code",
      "source": [
        "u = torch.tensor([1, 2, 3, 4])\n",
        "v = torch.tensor([5, 6, 7, 8])\n",
        "c = u + v\n",
        "c"
      ],
      "metadata": {
        "colab": {
          "base_uri": "https://localhost:8080/"
        },
        "id": "bneQ7YR3Zsia",
        "outputId": "f076ecc4-2077-4e11-f476-189697103b8b"
      },
      "execution_count": 30,
      "outputs": [
        {
          "output_type": "execute_result",
          "data": {
            "text/plain": [
              "tensor([ 6,  8, 10, 12])"
            ]
          },
          "metadata": {},
          "execution_count": 30
        }
      ]
    },
    {
      "cell_type": "code",
      "source": [
        "c = u * v\n",
        "c"
      ],
      "metadata": {
        "colab": {
          "base_uri": "https://localhost:8080/"
        },
        "id": "goUA77UXbEOX",
        "outputId": "a2cce0cf-114d-4f04-b47d-06275f3eef0e"
      },
      "execution_count": 31,
      "outputs": [
        {
          "output_type": "execute_result",
          "data": {
            "text/plain": [
              "tensor([ 5, 12, 21, 32])"
            ]
          },
          "metadata": {},
          "execution_count": 31
        }
      ]
    },
    {
      "cell_type": "code",
      "source": [
        "c = u-v\n",
        "c"
      ],
      "metadata": {
        "colab": {
          "base_uri": "https://localhost:8080/"
        },
        "id": "VlmlG0YlbJRR",
        "outputId": "21f79e95-f795-43f2-bf17-874e590c3791"
      },
      "execution_count": 32,
      "outputs": [
        {
          "output_type": "execute_result",
          "data": {
            "text/plain": [
              "tensor([-4, -4, -4, -4])"
            ]
          },
          "metadata": {},
          "execution_count": 32
        }
      ]
    },
    {
      "cell_type": "code",
      "source": [
        "c = u/v\n",
        "c"
      ],
      "metadata": {
        "colab": {
          "base_uri": "https://localhost:8080/"
        },
        "id": "LujVvOBmbLW3",
        "outputId": "c1a53674-020c-4e7d-9080-e08e8cd0033e"
      },
      "execution_count": 34,
      "outputs": [
        {
          "output_type": "execute_result",
          "data": {
            "text/plain": [
              "tensor([0.2000, 0.3333, 0.4286, 0.5000])"
            ]
          },
          "metadata": {},
          "execution_count": 34
        }
      ]
    },
    {
      "cell_type": "markdown",
      "source": [
        "We can also concatenate multiple tensors together stacking them end to end to form a large tensor. We just need a list of tensors and tell the computer along which axis to concatenate. "
      ],
      "metadata": {
        "id": "2y5Ybmdtbsq0"
      }
    },
    {
      "cell_type": "markdown",
      "source": [
        "Why is concatenation useful?\n",
        "In a neural network, for example, concatenating multiple feature maps along the channel dimension can allow for increased model capacity and the ability to learn more complex representations of the input data. Additionally, concatenating multiple input sequences or feature vectors can be useful for tasks such as machine translation or image captioning."
      ],
      "metadata": {
        "id": "6GOOihaPeN_y"
      }
    },
    {
      "cell_type": "code",
      "source": [
        "X = torch.arange(12, dtype = torch.float32).reshape((3,4))\n",
        "Y = torch.tensor([[2.0, 1, 4, 3], \n",
        "                  [1, 2, 3, 4],\n",
        "                  [4, 3, 2, 1]])\n",
        "display(X)\n",
        "display(Y)"
      ],
      "metadata": {
        "colab": {
          "base_uri": "https://localhost:8080/",
          "height": 121
        },
        "id": "sk2PTgg8cDgb",
        "outputId": "4e797233-6b67-4d7a-bd47-59c7f720b2f3"
      },
      "execution_count": 42,
      "outputs": [
        {
          "output_type": "display_data",
          "data": {
            "text/plain": [
              "tensor([[ 0.,  1.,  2.,  3.],\n",
              "        [ 4.,  5.,  6.,  7.],\n",
              "        [ 8.,  9., 10., 11.]])"
            ]
          },
          "metadata": {}
        },
        {
          "output_type": "display_data",
          "data": {
            "text/plain": [
              "tensor([[2., 1., 4., 3.],\n",
              "        [1., 2., 3., 4.],\n",
              "        [4., 3., 2., 1.]])"
            ]
          },
          "metadata": {}
        }
      ]
    },
    {
      "cell_type": "code",
      "source": [
        "concat_horizontal_stack = torch.cat((X, Y), axis = 1)\n",
        "concat_vertical_stack = torch.cat((X, Y), axis = 0)\n",
        "display(concat_horizontal_stack)\n",
        "display(concat_vertical_stack)"
      ],
      "metadata": {
        "colab": {
          "base_uri": "https://localhost:8080/",
          "height": 173
        },
        "id": "hibDOArwcqGY",
        "outputId": "9e28f6bc-9b9c-4487-f419-39d29e8ace79"
      },
      "execution_count": 43,
      "outputs": [
        {
          "output_type": "display_data",
          "data": {
            "text/plain": [
              "tensor([[ 0.,  1.,  2.,  3.,  2.,  1.,  4.,  3.],\n",
              "        [ 4.,  5.,  6.,  7.,  1.,  2.,  3.,  4.],\n",
              "        [ 8.,  9., 10., 11.,  4.,  3.,  2.,  1.]])"
            ]
          },
          "metadata": {}
        },
        {
          "output_type": "display_data",
          "data": {
            "text/plain": [
              "tensor([[ 0.,  1.,  2.,  3.],\n",
              "        [ 4.,  5.,  6.,  7.],\n",
              "        [ 8.,  9., 10., 11.],\n",
              "        [ 2.,  1.,  4.,  3.],\n",
              "        [ 1.,  2.,  3.,  4.],\n",
              "        [ 4.,  3.,  2.,  1.]])"
            ]
          },
          "metadata": {}
        }
      ]
    },
    {
      "cell_type": "markdown",
      "source": [
        "We can compare binary tensor through logical statements. "
      ],
      "metadata": {
        "id": "olZqRDuDdO1J"
      }
    },
    {
      "cell_type": "code",
      "source": [
        "X == Y"
      ],
      "metadata": {
        "colab": {
          "base_uri": "https://localhost:8080/"
        },
        "id": "vbN2IMa5dAaU",
        "outputId": "6534af0a-49f9-4cfa-914a-b01db0d0b94c"
      },
      "execution_count": 44,
      "outputs": [
        {
          "output_type": "execute_result",
          "data": {
            "text/plain": [
              "tensor([[False,  True, False,  True],\n",
              "        [False, False, False, False],\n",
              "        [False, False, False, False]])"
            ]
          },
          "metadata": {},
          "execution_count": 44
        }
      ]
    },
    {
      "cell_type": "code",
      "source": [
        "X > Y"
      ],
      "metadata": {
        "colab": {
          "base_uri": "https://localhost:8080/"
        },
        "id": "DYZafUhyehIk",
        "outputId": "2eb7da56-4959-42d6-fe63-0124b2cb0aba"
      },
      "execution_count": 46,
      "outputs": [
        {
          "output_type": "execute_result",
          "data": {
            "text/plain": [
              "tensor([[False, False, False, False],\n",
              "        [ True,  True,  True,  True],\n",
              "        [ True,  True,  True,  True]])"
            ]
          },
          "metadata": {},
          "execution_count": 46
        }
      ]
    },
    {
      "cell_type": "markdown",
      "source": [
        "We can use .sum() to sum up all the elements of a tensor which yields a tensor with only one element"
      ],
      "metadata": {
        "id": "LAjIIGTwdV3U"
      }
    },
    {
      "cell_type": "code",
      "source": [
        "X.sum()"
      ],
      "metadata": {
        "colab": {
          "base_uri": "https://localhost:8080/"
        },
        "id": "pianPipYdSzg",
        "outputId": "d3330620-26a2-4274-9385-0ae27048c584"
      },
      "execution_count": 45,
      "outputs": [
        {
          "output_type": "execute_result",
          "data": {
            "text/plain": [
              "tensor(66.)"
            ]
          },
          "metadata": {},
          "execution_count": 45
        }
      ]
    },
    {
      "cell_type": "markdown",
      "source": [
        "## Broadcasting\n",
        "\n",
        "Under certain circumstances where the shapes of the tensors differ but we still want to perform elementwise binary operations such as adding them together or multiplying them together, we can use broadcasting to solve this issue. So in short broadcasting is a mechanism that allows for the element-wise operations between tensors of different shapes."
      ],
      "metadata": {
        "id": "AcskSVDAew2Q"
      }
    },
    {
      "cell_type": "code",
      "source": [
        "u = torch.randn(2, 3)\n",
        "v = torch.randn(3)\n",
        "display(u)\n",
        "display(v)\n"
      ],
      "metadata": {
        "colab": {
          "base_uri": "https://localhost:8080/",
          "height": 69
        },
        "id": "aJUwIOjjdbza",
        "outputId": "36f42dff-c9d5-4c12-fa66-46862141ad2d"
      },
      "execution_count": 50,
      "outputs": [
        {
          "output_type": "display_data",
          "data": {
            "text/plain": [
              "tensor([[-1.0341, -0.8639, -0.8430],\n",
              "        [-1.8832,  0.3893, -0.7829]])"
            ]
          },
          "metadata": {}
        },
        {
          "output_type": "display_data",
          "data": {
            "text/plain": [
              "tensor([-0.0814,  0.0213, -0.0141])"
            ]
          },
          "metadata": {}
        }
      ]
    },
    {
      "cell_type": "code",
      "source": [
        "c = u + v\n",
        "c"
      ],
      "metadata": {
        "colab": {
          "base_uri": "https://localhost:8080/"
        },
        "id": "Bpb06g5TgVZy",
        "outputId": "3028514a-f15e-4119-d694-8fb4f8e4c862"
      },
      "execution_count": 51,
      "outputs": [
        {
          "output_type": "execute_result",
          "data": {
            "text/plain": [
              "tensor([[-1.1156, -0.8426, -0.8571],\n",
              "        [-1.9647,  0.4106, -0.7969]])"
            ]
          },
          "metadata": {},
          "execution_count": 51
        }
      ]
    },
    {
      "cell_type": "markdown",
      "source": [
        "In the example, we have a tensor u with shape (2, 3) and a tensor v with shape (3). Since the last dimension of tensor u is 3 and the last dimension of tensor v is also 3, PyTorch can broadcast tensor v along the first dimension to match the shape of tensor u. This allows us to perform an operation such as addition between the two tensors. The resulting tensor C has the same shape as u, which is (2, 3)."
      ],
      "metadata": {
        "id": "D1FQxkhLgtFi"
      }
    },
    {
      "cell_type": "markdown",
      "source": [
        "## Saving Memory\n",
        "This part is really important if you want to create your own machine learning model"
      ],
      "metadata": {
        "id": "x7EWRO9Shkzo"
      }
    },
    {
      "cell_type": "code",
      "source": [
        "display(u)\n",
        "display(v)"
      ],
      "metadata": {
        "colab": {
          "base_uri": "https://localhost:8080/",
          "height": 69
        },
        "id": "wG6YIAw_gbIu",
        "outputId": "f41cd601-287a-4a3d-e9b6-13088455f2fa"
      },
      "execution_count": 53,
      "outputs": [
        {
          "output_type": "display_data",
          "data": {
            "text/plain": [
              "tensor([[-1.0341, -0.8639, -0.8430],\n",
              "        [-1.8832,  0.3893, -0.7829]])"
            ]
          },
          "metadata": {}
        },
        {
          "output_type": "display_data",
          "data": {
            "text/plain": [
              "tensor([-0.0814,  0.0213, -0.0141])"
            ]
          },
          "metadata": {}
        }
      ]
    },
    {
      "cell_type": "code",
      "source": [
        "before_id = id(u)\n",
        "u = u + v\n",
        "after_id = id(u)\n",
        "before_id == after_id"
      ],
      "metadata": {
        "colab": {
          "base_uri": "https://localhost:8080/"
        },
        "id": "ykDO2CNFhvif",
        "outputId": "e8660fad-8258-4011-c2a6-646859b96c18"
      },
      "execution_count": 54,
      "outputs": [
        {
          "output_type": "execute_result",
          "data": {
            "text/plain": [
              "False"
            ]
          },
          "metadata": {},
          "execution_count": 54
        }
      ]
    },
    {
      "cell_type": "markdown",
      "source": [
        "Notice how the memory location changes when we perform the element wise binary operations. This means that it will allocate new memory to store the result of u + v. This is bad because number 1, we are allocating memory unnecessarily all the time. Two this can lead to memory leak. So how do we fix this? Fortunately it is a very simple fix"
      ],
      "metadata": {
        "id": "CO8o_7_Dh7S_"
      }
    },
    {
      "cell_type": "code",
      "source": [
        "before_id = id(u)\n",
        "u += v\n",
        "after_id = id(u)\n",
        "before_id == after_id"
      ],
      "metadata": {
        "colab": {
          "base_uri": "https://localhost:8080/"
        },
        "id": "16aG_GlOh23w",
        "outputId": "60994acf-141b-41a2-8e2a-2670c7f485cd"
      },
      "execution_count": 55,
      "outputs": [
        {
          "output_type": "execute_result",
          "data": {
            "text/plain": [
              "True"
            ]
          },
          "metadata": {},
          "execution_count": 55
        }
      ]
    },
    {
      "cell_type": "markdown",
      "source": [
        "## Conversion to other python objects"
      ],
      "metadata": {
        "id": "tJe1e8A6izbN"
      }
    },
    {
      "cell_type": "code",
      "source": [
        "A = u.numpy()\n",
        "B = torch.from_numpy(A)\n",
        "display(type(A))\n",
        "display(type(B))"
      ],
      "metadata": {
        "colab": {
          "base_uri": "https://localhost:8080/",
          "height": 52
        },
        "id": "RtMJd1ztiluW",
        "outputId": "64b1f522-ca95-408d-c6c8-b6023c0b53ba"
      },
      "execution_count": 56,
      "outputs": [
        {
          "output_type": "display_data",
          "data": {
            "text/plain": [
              "numpy.ndarray"
            ]
          },
          "metadata": {}
        },
        {
          "output_type": "display_data",
          "data": {
            "text/plain": [
              "torch.Tensor"
            ]
          },
          "metadata": {}
        }
      ]
    },
    {
      "cell_type": "markdown",
      "source": [
        "## Exercises"
      ],
      "metadata": {
        "id": "tK2DL0bejbvw"
      }
    },
    {
      "cell_type": "markdown",
      "source": [
        "1. Create a tensor of shape (4, 3) filled with random values, \n",
        "and then extract the second column of the tensor.\n",
        "2. Create a tensor filled with zeros\n",
        "3. Create a tensor filled with ones\n",
        "4. Create two tensors A and B filled with random integers and then store their elementwise sum into a new tensor C\n",
        "5. Create a tensor with 3 dimensions\n",
        "6. Create two tensors A and B with different shapes and use broadcasting to obtain their element wise sum\n",
        "7. Compare two tensors using logical statements\n",
        "8. Create two tensors of shape (3, 4) and concatenate them horizontally and vertically"
      ],
      "metadata": {
        "id": "i9tFR-fxjgsk"
      }
    },
    {
      "cell_type": "code",
      "source": [
        "# 1\n",
        "A = torch.randn(4, 3)\n",
        "display(A)\n",
        "display(A[:, 1])"
      ],
      "metadata": {
        "colab": {
          "base_uri": "https://localhost:8080/",
          "height": 104
        },
        "id": "tCErDBDXkk2y",
        "outputId": "a7152755-bc2f-475b-9e00-8c78de50532b"
      },
      "execution_count": 59,
      "outputs": [
        {
          "output_type": "display_data",
          "data": {
            "text/plain": [
              "tensor([[-1.0187,  1.0221,  0.5933],\n",
              "        [-1.7533,  0.4169,  0.3206],\n",
              "        [-1.3601,  1.4218, -1.9415],\n",
              "        [-0.8130,  0.5767, -1.0583]])"
            ]
          },
          "metadata": {}
        },
        {
          "output_type": "display_data",
          "data": {
            "text/plain": [
              "tensor([1.0221, 0.4169, 1.4218, 0.5767])"
            ]
          },
          "metadata": {}
        }
      ]
    },
    {
      "cell_type": "code",
      "source": [
        "# 2\n",
        "A = torch.zeros(4, 3)\n",
        "A"
      ],
      "metadata": {
        "colab": {
          "base_uri": "https://localhost:8080/"
        },
        "id": "7y2uksqLk7GT",
        "outputId": "04dc127b-2314-4d7c-c87a-fda2a0b0e218"
      },
      "execution_count": 61,
      "outputs": [
        {
          "output_type": "execute_result",
          "data": {
            "text/plain": [
              "tensor([[0., 0., 0.],\n",
              "        [0., 0., 0.],\n",
              "        [0., 0., 0.],\n",
              "        [0., 0., 0.]])"
            ]
          },
          "metadata": {},
          "execution_count": 61
        }
      ]
    },
    {
      "cell_type": "code",
      "source": [
        "# 3\n",
        "A = torch.ones(4, 3)\n",
        "A"
      ],
      "metadata": {
        "colab": {
          "base_uri": "https://localhost:8080/"
        },
        "id": "L18KiMvAlDcz",
        "outputId": "f451fdb4-1a2e-44c6-9c42-268956a14867"
      },
      "execution_count": 62,
      "outputs": [
        {
          "output_type": "execute_result",
          "data": {
            "text/plain": [
              "tensor([[1., 1., 1.],\n",
              "        [1., 1., 1.],\n",
              "        [1., 1., 1.],\n",
              "        [1., 1., 1.]])"
            ]
          },
          "metadata": {},
          "execution_count": 62
        }
      ]
    },
    {
      "cell_type": "code",
      "source": [
        "# 4\n",
        "A = torch.randn(4, 3)\n",
        "B = torch.randn(4, 3)\n",
        "C = A + B\n",
        "C"
      ],
      "metadata": {
        "colab": {
          "base_uri": "https://localhost:8080/"
        },
        "id": "kitqnPZolGfS",
        "outputId": "006c8517-af14-4999-a4df-50305b719f6c"
      },
      "execution_count": 63,
      "outputs": [
        {
          "output_type": "execute_result",
          "data": {
            "text/plain": [
              "tensor([[ 2.3987,  0.9844, -2.1502],\n",
              "        [-1.7218,  2.2971,  1.8848],\n",
              "        [-1.4289,  1.4740,  2.2923],\n",
              "        [ 0.4790,  0.7110, -0.9562]])"
            ]
          },
          "metadata": {},
          "execution_count": 63
        }
      ]
    },
    {
      "cell_type": "code",
      "source": [
        "# 5\n",
        "A = torch.arange(27)\n",
        "display(A)\n",
        "A = A.reshape(3, 3, 3)\n",
        "display(A)"
      ],
      "metadata": {
        "colab": {
          "base_uri": "https://localhost:8080/",
          "height": 243
        },
        "id": "xsM9qCr9lNHr",
        "outputId": "d4576287-8392-4249-981e-fc0cca22f7db"
      },
      "execution_count": 64,
      "outputs": [
        {
          "output_type": "display_data",
          "data": {
            "text/plain": [
              "tensor([ 0,  1,  2,  3,  4,  5,  6,  7,  8,  9, 10, 11, 12, 13, 14, 15, 16, 17,\n",
              "        18, 19, 20, 21, 22, 23, 24, 25, 26])"
            ]
          },
          "metadata": {}
        },
        {
          "output_type": "display_data",
          "data": {
            "text/plain": [
              "tensor([[[ 0,  1,  2],\n",
              "         [ 3,  4,  5],\n",
              "         [ 6,  7,  8]],\n",
              "\n",
              "        [[ 9, 10, 11],\n",
              "         [12, 13, 14],\n",
              "         [15, 16, 17]],\n",
              "\n",
              "        [[18, 19, 20],\n",
              "         [21, 22, 23],\n",
              "         [24, 25, 26]]])"
            ]
          },
          "metadata": {}
        }
      ]
    },
    {
      "cell_type": "code",
      "source": [
        "# 6\n",
        "A = torch.randn((2, 3), dtype = torch.float32)\n",
        "B = torch.tensor(2.0)\n",
        "display(A)\n",
        "display(B)\n",
        "display(A + B)"
      ],
      "metadata": {
        "colab": {
          "base_uri": "https://localhost:8080/",
          "height": 104
        },
        "id": "RlOGoZLblcXI",
        "outputId": "fe1dbc69-c260-4224-c4e0-9863a34842b3"
      },
      "execution_count": 72,
      "outputs": [
        {
          "output_type": "display_data",
          "data": {
            "text/plain": [
              "tensor([[ 0.4759,  0.3167, -1.5098],\n",
              "        [-0.0407, -1.8093, -0.2850]])"
            ]
          },
          "metadata": {}
        },
        {
          "output_type": "display_data",
          "data": {
            "text/plain": [
              "tensor(2.)"
            ]
          },
          "metadata": {}
        },
        {
          "output_type": "display_data",
          "data": {
            "text/plain": [
              "tensor([[2.4759, 2.3167, 0.4902],\n",
              "        [1.9593, 0.1907, 1.7150]])"
            ]
          },
          "metadata": {}
        }
      ]
    },
    {
      "cell_type": "code",
      "source": [
        "# 7\n",
        "A = torch.tensor([1, 2, 3])\n",
        "B = torch.tensor([4, 5, 6])\n",
        "A > B"
      ],
      "metadata": {
        "colab": {
          "base_uri": "https://localhost:8080/"
        },
        "id": "1HMP3kdVllFD",
        "outputId": "fec4e1d3-fa37-4556-eb20-b63b682325a0"
      },
      "execution_count": 73,
      "outputs": [
        {
          "output_type": "execute_result",
          "data": {
            "text/plain": [
              "tensor([False, False, False])"
            ]
          },
          "metadata": {},
          "execution_count": 73
        }
      ]
    },
    {
      "cell_type": "code",
      "source": [
        "# 8\n",
        "A = torch.randn(3, 4)\n",
        "B = torch.randn(3, 4)\n",
        "display(torch.cat((A, B), axis = 1))\n",
        "display(torch.cat((A, B), axis = 0))"
      ],
      "metadata": {
        "colab": {
          "base_uri": "https://localhost:8080/",
          "height": 173
        },
        "id": "CGefl69Tmaoi",
        "outputId": "6508eb53-b004-42fc-cbc3-3c2a5547eb25"
      },
      "execution_count": 74,
      "outputs": [
        {
          "output_type": "display_data",
          "data": {
            "text/plain": [
              "tensor([[-1.6037, -1.2166,  0.7917,  0.4260, -0.3731, -1.0789, -0.7706, -0.8480],\n",
              "        [ 0.8385, -0.3906, -0.2613,  0.5359, -0.4539, -1.3881,  0.7464, -0.4369],\n",
              "        [ 2.6878, -1.6598,  0.1895,  1.2110,  1.5444,  0.3877, -0.0809,  1.0686]])"
            ]
          },
          "metadata": {}
        },
        {
          "output_type": "display_data",
          "data": {
            "text/plain": [
              "tensor([[-1.6037, -1.2166,  0.7917,  0.4260],\n",
              "        [ 0.8385, -0.3906, -0.2613,  0.5359],\n",
              "        [ 2.6878, -1.6598,  0.1895,  1.2110],\n",
              "        [-0.3731, -1.0789, -0.7706, -0.8480],\n",
              "        [-0.4539, -1.3881,  0.7464, -0.4369],\n",
              "        [ 1.5444,  0.3877, -0.0809,  1.0686]])"
            ]
          },
          "metadata": {}
        }
      ]
    }
  ]
}